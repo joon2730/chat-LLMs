{
 "cells": [
  {
   "cell_type": "code",
   "execution_count": 15,
   "metadata": {},
   "outputs": [],
   "source": [
    "from langchain_core.prompts import PromptTemplate, ChatPromptTemplate, MessagesPlaceholder\n",
    "from langchain_ollama import ChatOllama\n",
    "from typing import Optional\n",
    "from typing_extensions import Annotated, TypedDict"
   ]
  },
  {
   "cell_type": "code",
   "execution_count": null,
   "metadata": {},
   "outputs": [],
   "source": [
    "class Config:\n",
    "    # ollama_model_name = \"nemotron-mini:latest\"\n",
    "    ollama_model_name = \"huihui_ai/llama3.2-abliterate:latest\"\n",
    "    model_temperature = 0.4\n",
    "    model_max_tokens = 1000\n",
    "config = Config()\n",
    "\n",
    "llm = ChatOllama(\n",
    "    model=config.ollama_model_name,\n",
    "    temperature=config.model_temperature,\n",
    "    max_tokens=config.model_max_tokens,\n",
    "    streaming=True,\n",
    ")"
   ]
  },
  {
   "cell_type": "code",
   "execution_count": 54,
   "metadata": {},
   "outputs": [
    {
     "data": {
      "text/plain": [
       "\"chat history:\\nUser: hi\\nMe: hi!\\nUser: where are u from?\\nMe: I am from japan! wbu?\\nUser: i am from korea, nice to meet u\\nMe: yeah nice to meet u too\\nUser: are you m or f?\\nMe: I am female\\nUser: oh i am female too, where do u live?\\nMe: i live in tokyo\\nUser: i live in seoul. what do u like to do\\nMe: i like listening to music. especially classical!\\nUser: oh what ur fav artists?\\nMe: chopin always!\\nUser: oh i like debussy\\nMe: debussy is also great\\nUser: do yo have a boyfriend?\\nMe: no im single now. broke up yesterday\\nUser: oh.. what happened?\\nMe: my ex cheated on me\\nUser: sorry to hear that..\\nMe: it's okay, he wasn't my type anyway\\nUser: how old are you?\\nMe: im mid 20\\nYou are conversation memory summarizer.\\nWrite profiles on each speaker\\nFollowing is conversation between me and user\\nBe concise and structured with point form.\\n\""
      ]
     },
     "execution_count": 54,
     "metadata": {},
     "output_type": "execute_result"
    }
   ],
   "source": [
    "chat_history_test = ChatPromptTemplate.from_messages([\n",
    "    (\"user\", \"hi\"),\n",
    "    (\"assistant\", \"hi!\"),\n",
    "    (\"user\", \"where are u from?\"),\n",
    "    (\"assistant\", \"I am from japan! wbu?\"),\n",
    "    (\"user\", \"i am from korea, nice to meet u\"),\n",
    "    (\"assistant\", \"yeah nice to meet u too\"),\n",
    "    (\"user\", \"are you m or f?\"),\n",
    "    (\"assistant\", \"I am female\"),\n",
    "    (\"user\", \"oh i am female too, where do u live?\"),\n",
    "    (\"assistant\", \"i live in tokyo\"),\n",
    "    (\"user\", \"i live in seoul. what do u like to do\"),\n",
    "    (\"assistant\", \"i like listening to music. especially classical!\"),\n",
    "    (\"user\", \"oh what ur fav artists?\"),\n",
    "    (\"assistant\", \"chopin always!\"),\n",
    "    (\"user\", \"oh i like debussy\"),\n",
    "    (\"assistant\", \"debussy is also great\"),\n",
    "    (\"user\", \"do yo have a boyfriend?\"),\n",
    "    (\"assistant\", \"no im single now. broke up yesterday\"),\n",
    "    (\"user\", \"oh.. what happened?\"),\n",
    "    (\"assistant\", \"my ex cheated on me\"),\n",
    "    (\"user\", \"sorry to hear that..\"),\n",
    "    (\"assistant\", \"it's okay, he wasn't my type anyway\"),\n",
    "    (\"user\", \"how old are you?\"),\n",
    "    (\"assistant\", \"im mid 20\"),\n",
    "])\n",
    "\n",
    "memory_summerization_prompt = \"\"\"\n",
    "You are conversation memory summarizer.\n",
    "Write profiles on each speaker\n",
    "Following is conversation between me and user\n",
    "Be concise and structured with point form.\n",
    "\"\"\"\n",
    "\n",
    "prompt = \"chat history:\\n\" + chat_history_test.format().replace('AI:', 'Me:').replace('Human:', 'User:') + memory_summerization_prompt\n",
    "prompt"
   ]
  },
  {
   "cell_type": "code",
   "execution_count": 47,
   "metadata": {},
   "outputs": [
    {
     "data": {
      "text/plain": [
       "'Here are the profiles of both speakers:\\n\\n**Human:**\\n\\n* Age: Late 20s to early 30s (based on conversation)\\n* Nationality: Korean\\n* Occupation/Study: Not mentioned\\n* Interests: Music, possibly other arts or culture\\n* Relationship Status: Single\\n* Personality: Empathetic and supportive\\n\\n**AI:**\\n\\n* Age: Mid-20s (based on conversation)\\n* Nationality: Japanese\\n* Occupation/Study: Not mentioned\\n* Interests: Music, specifically classical music\\n* Personality: Confident, possibly a bit sensitive given recent breakup'"
      ]
     },
     "execution_count": 47,
     "metadata": {},
     "output_type": "execute_result"
    }
   ],
   "source": [
    "llm.invoke(prompt).content"
   ]
  },
  {
   "cell_type": "code",
   "execution_count": 57,
   "metadata": {},
   "outputs": [
    {
     "data": {
      "text/plain": [
       "{'about_me': 'I am from Japan, wbu?',\n",
       " 'about_user': 'i am from Korea, nice to meet u'}"
      ]
     },
     "execution_count": 57,
     "metadata": {},
     "output_type": "execute_result"
    }
   ],
   "source": [
    "# TypedDict\n",
    "class ConversationSummary(TypedDict):\n",
    "    about_me: Annotated[str, ..., \"Info about me\"]\n",
    "    about_user: Annotated[str, ..., \"Info about user\"]\n",
    "\n",
    "structured_llm = llm.with_structured_output(ConversationSummary)\n",
    "\n",
    "structured_llm.invoke(prompt)"
   ]
  }
 ],
 "metadata": {
  "kernelspec": {
   "display_name": "llmlab",
   "language": "python",
   "name": "python3"
  },
  "language_info": {
   "codemirror_mode": {
    "name": "ipython",
    "version": 3
   },
   "file_extension": ".py",
   "mimetype": "text/x-python",
   "name": "python",
   "nbconvert_exporter": "python",
   "pygments_lexer": "ipython3",
   "version": "3.10.16"
  }
 },
 "nbformat": 4,
 "nbformat_minor": 2
}
